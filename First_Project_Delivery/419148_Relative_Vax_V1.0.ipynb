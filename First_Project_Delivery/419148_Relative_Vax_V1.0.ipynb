{
 "cells": [
  {
   "cell_type": "markdown",
   "metadata": {},
   "source": [
    "# Relative Vaccinations (Absolute Vaccination/Population Size)\n",
    "\n",
    "Countries: France, United Kingdom, Hong Kong\n",
    "\n",
    "Pranav Atul Patwardhan (419148)"
   ]
  },
  {
   "cell_type": "code",
   "execution_count": 74,
   "metadata": {},
   "outputs": [],
   "source": [
    "#Importing required libraries:\n",
    "import pandas as pd\n",
    "import requests\n",
    "import json\n",
    "import datetime as datetime\n",
    "import matplotlib.pyplot as plt"
   ]
  },
  {
   "cell_type": "code",
   "execution_count": 55,
   "metadata": {},
   "outputs": [],
   "source": [
    "#Setting limit to maximum rows displayed:\n",
    "pd.set_option('display.max_rows', 500)"
   ]
  },
  {
   "cell_type": "code",
   "execution_count": 56,
   "metadata": {},
   "outputs": [],
   "source": [
    "# Requesting the Covid Cases data from our world in data webiste as a json object:\n",
    "data_Vax=requests.get('https://github.com/owid/covid-19-data/raw/master/public/data/vaccinations/vaccinations.json')\n",
    "\n",
    "#Dumping all data from json into a variable:\n",
    "json_object_vax=json.loads(data_Vax.content)"
   ]
  },
  {
   "cell_type": "code",
   "execution_count": 57,
   "metadata": {},
   "outputs": [
    {
     "data": {
      "text/plain": [
       "dict_keys(['Afghanistan', 'Africa', 'Albania', 'Algeria', 'Andorra', 'Angola', 'Anguilla', 'Antigua and Barbuda', 'Argentina', 'Armenia', 'Aruba', 'Asia', 'Australia', 'Austria', 'Azerbaijan', 'Bahamas', 'Bahrain', 'Bangladesh', 'Barbados', 'Belarus', 'Belgium', 'Belize', 'Benin', 'Bermuda', 'Bhutan', 'Bolivia', 'Bonaire Sint Eustatius and Saba', 'Bosnia and Herzegovina', 'Botswana', 'Brazil', 'British Virgin Islands', 'Brunei', 'Bulgaria', 'Burkina Faso', 'Burundi', 'Cambodia', 'Cameroon', 'Canada', 'Cape Verde', 'Cayman Islands', 'Central African Republic', 'Chad', 'Chile', 'China', 'Colombia', 'Comoros', 'Congo', 'Cook Islands', 'Costa Rica', \"Cote d'Ivoire\", 'Croatia', 'Cuba', 'Curacao', 'Cyprus', 'Czechia', 'Democratic Republic of Congo', 'Denmark', 'Djibouti', 'Dominica', 'Dominican Republic', 'Ecuador', 'Egypt', 'El Salvador', 'England', 'Equatorial Guinea', 'Estonia', 'Eswatini', 'Ethiopia', 'Europe', 'European Union', 'Faeroe Islands', 'Falkland Islands', 'Fiji', 'Finland', 'France', 'French Polynesia', 'Gabon', 'Gambia', 'Georgia', 'Germany', 'Ghana', 'Gibraltar', 'Greece', 'Greenland', 'Grenada', 'Guatemala', 'Guernsey', 'Guinea', 'Guinea-Bissau', 'Guyana', 'Haiti', 'High income', 'Honduras', 'Hong Kong', 'Hungary', 'Iceland', 'India', 'Indonesia', 'Iran', 'Iraq', 'Ireland', 'Isle of Man', 'Israel', 'Italy', 'Jamaica', 'Japan', 'Jersey', 'Jordan', 'Kazakhstan', 'Kenya', 'Kiribati', 'Kosovo', 'Kuwait', 'Kyrgyzstan', 'Laos', 'Latvia', 'Lebanon', 'Lesotho', 'Liberia', 'Libya', 'Liechtenstein', 'Lithuania', 'Low income', 'Lower middle income', 'Luxembourg', 'Macao', 'Madagascar', 'Malawi', 'Malaysia', 'Maldives', 'Mali', 'Malta', 'Mauritania', 'Mauritius', 'Mexico', 'Moldova', 'Monaco', 'Mongolia', 'Montenegro', 'Montserrat', 'Morocco', 'Mozambique', 'Myanmar', 'Namibia', 'Nauru', 'Nepal', 'Netherlands', 'New Caledonia', 'New Zealand', 'Nicaragua', 'Niger', 'Nigeria', 'Niue', 'North America', 'North Macedonia', 'Northern Cyprus', 'Northern Ireland', 'Norway', 'Oceania', 'Oman', 'Pakistan', 'Palestine', 'Panama', 'Papua New Guinea', 'Paraguay', 'Peru', 'Philippines', 'Pitcairn', 'Poland', 'Portugal', 'Qatar', 'Romania', 'Russia', 'Rwanda', 'Saint Helena', 'Saint Kitts and Nevis', 'Saint Lucia', 'Saint Vincent and the Grenadines', 'Samoa', 'San Marino', 'Sao Tome and Principe', 'Saudi Arabia', 'Scotland', 'Senegal', 'Serbia', 'Seychelles', 'Sierra Leone', 'Singapore', 'Sint Maarten (Dutch part)', 'Slovakia', 'Slovenia', 'Solomon Islands', 'Somalia', 'South Africa', 'South America', 'South Korea', 'South Sudan', 'Spain', 'Sri Lanka', 'Sudan', 'Suriname', 'Sweden', 'Switzerland', 'Syria', 'Taiwan', 'Tajikistan', 'Tanzania', 'Thailand', 'Timor', 'Togo', 'Tokelau', 'Tonga', 'Trinidad and Tobago', 'Tunisia', 'Turkey', 'Turkmenistan', 'Turks and Caicos Islands', 'Tuvalu', 'Uganda', 'Ukraine', 'United Arab Emirates', 'United Kingdom', 'United States', 'Upper middle income', 'Uruguay', 'Uzbekistan', 'Vanuatu', 'Venezuela', 'Vietnam', 'Wales', 'Wallis and Futuna', 'World', 'Yemen', 'Zambia', 'Zimbabwe'])"
      ]
     },
     "execution_count": 57,
     "metadata": {},
     "output_type": "execute_result"
    }
   ],
   "source": [
    "# create an empty dictionary\n",
    "dict_from_list = {}\n",
    "\n",
    "# for loop to convert list of dict\n",
    "# to dict of list\n",
    "for item in json_object_vax:\n",
    "\tname = item['country']\n",
    "\tdict_from_list[name] = item\n",
    "\n",
    "# Displaying the keys of the dictonary:\n",
    "dict_from_list.keys()"
   ]
  },
  {
   "cell_type": "code",
   "execution_count": 58,
   "metadata": {},
   "outputs": [],
   "source": [
    "#Separating dictonary of France from list and adding it to new list:\n",
    "country_FRA=dict_from_list['France']\n",
    "\n",
    "#Separating the list that contains the data we need from the United Kingdom dictonary:\n",
    "country_FRA_data=country_FRA['data']"
   ]
  },
  {
   "cell_type": "code",
   "execution_count": 59,
   "metadata": {},
   "outputs": [],
   "source": [
    "#Creating an empty dictonary to get data(date, vaccination):\n",
    "dictionary_of_FRA_date_vax={}\n",
    "\n",
    "#Creating dictonary from the list:\n",
    "for item in country_FRA_data:\n",
    "\tname = item['date']\n",
    "\tdictionary_of_FRA_date_vax[name] = item"
   ]
  },
  {
   "cell_type": "code",
   "execution_count": 60,
   "metadata": {},
   "outputs": [],
   "source": [
    "#Creating an empty list:\n",
    "inter_list_FRA=[]\n",
    "\n",
    "#Adding all the keys from data dictonary to an empty list:\n",
    "for key in dictionary_of_FRA_date_vax:\n",
    "\tinter_list_FRA.append(dictionary_of_FRA_date_vax[key])"
   ]
  },
  {
   "cell_type": "code",
   "execution_count": 61,
   "metadata": {},
   "outputs": [
    {
     "data": {
      "text/plain": [
       "date                 object\n",
       "FRA_ratio_vax_pop     int64\n",
       "dtype: object"
      ]
     },
     "execution_count": 61,
     "metadata": {},
     "output_type": "execute_result"
    }
   ],
   "source": [
    "#Converting list to dataframe:\n",
    "pd_FRA_inter=pd.DataFrame(inter_list_FRA)\n",
    "\n",
    "#Renaming the label total_vaccinations column to 'France ratio vaccination:population' (data it holds while plotting)\n",
    "pd_FRA_inter = pd_FRA_inter.rename(columns={'total_vaccinations':'FRA_ratio_vax_pop'})\n",
    "\n",
    "#Setting the index of the dataframe to date:\n",
    "pd_FRA_inter.set_index('date')\n",
    "\n",
    "#Separating the data columns that we need for the plot (date, total_vaccinations):\n",
    "pd_FRA_fin= pd_FRA_inter.iloc[:, [0,1]]\n",
    "\n",
    "#Checking the data types of the final dataframe for France:\n",
    "pd_FRA_fin.dtypes"
   ]
  },
  {
   "cell_type": "markdown",
   "metadata": {},
   "source": [
    "Requesting data that contains population from another web-source so that the population value stays up-to-date:"
   ]
  },
  {
   "cell_type": "code",
   "execution_count": 62,
   "metadata": {},
   "outputs": [],
   "source": [
    "#Requesting the json containing the population data so as the population number would always stay up-to-date:\n",
    "data_cases=requests.get('https://covid.ourworldindata.org/data/owid-covid-data.json')\n",
    "\n",
    "#Loading the json object for extrating population data:\n",
    "json_object_cases=json.loads(data_cases.content)"
   ]
  },
  {
   "cell_type": "markdown",
   "metadata": {},
   "source": [
    "Separating the population of France from the above imported json data:"
   ]
  },
  {
   "cell_type": "code",
   "execution_count": 63,
   "metadata": {},
   "outputs": [],
   "source": [
    "pop_FRA=json_object_cases['FRA']['population']"
   ]
  },
  {
   "cell_type": "code",
   "execution_count": 64,
   "metadata": {},
   "outputs": [
    {
     "name": "stderr",
     "output_type": "stream",
     "text": [
      "/var/folders/hc/6zc630lj787bkjt8wd6q8k4w0000gn/T/ipykernel_4202/59905375.py:1: SettingWithCopyWarning: \n",
      "A value is trying to be set on a copy of a slice from a DataFrame.\n",
      "Try using .loc[row_indexer,col_indexer] = value instead\n",
      "\n",
      "See the caveats in the documentation: https://pandas.pydata.org/pandas-docs/stable/user_guide/indexing.html#returning-a-view-versus-a-copy\n",
      "  pd_FRA_fin['FRA_ratio_vax_pop']=pd_FRA_fin['FRA_ratio_vax_pop'].div(pop_FRA)\n"
     ]
    }
   ],
   "source": [
    "pd_FRA_fin['FRA_ratio_vax_pop']=pd_FRA_fin['FRA_ratio_vax_pop'].div(pop_FRA)"
   ]
  },
  {
   "cell_type": "markdown",
   "metadata": {},
   "source": [
    "Testing weather the dataframe created gives a valid plot for one country:"
   ]
  },
  {
   "cell_type": "code",
   "execution_count": 65,
   "metadata": {},
   "outputs": [
    {
     "data": {
      "text/plain": [
       "<AxesSubplot:xlabel='date'>"
      ]
     },
     "execution_count": 65,
     "metadata": {},
     "output_type": "execute_result"
    },
    {
     "data": {
      "image/png": "[encoded data removed]",
      "text/plain": [
       "<Figure size 432x288 with 1 Axes>"
      ]
     },
     "metadata": {},
     "output_type": "display_data"
    }
   ],
   "source": [
    "pd_FRA_fin.plot(x='date', y='FRA_ratio_vax_pop')"
   ]
  },
  {
   "cell_type": "markdown",
   "metadata": {},
   "source": [
    "Following above steps for Great Britain/United Kingdom:"
   ]
  },
  {
   "cell_type": "code",
   "execution_count": 70,
   "metadata": {},
   "outputs": [
    {
     "name": "stderr",
     "output_type": "stream",
     "text": [
      "/var/folders/hc/6zc630lj787bkjt8wd6q8k4w0000gn/T/ipykernel_4202/3831804719.py:39: SettingWithCopyWarning: \n",
      "A value is trying to be set on a copy of a slice from a DataFrame.\n",
      "Try using .loc[row_indexer,col_indexer] = value instead\n",
      "\n",
      "See the caveats in the documentation: https://pandas.pydata.org/pandas-docs/stable/user_guide/indexing.html#returning-a-view-versus-a-copy\n",
      "  pd_GBR_fin['GBR_ratio_vax_pop']=pd_GBR_fin['GBR_ratio_vax_pop'].div(pop_GBR)\n"
     ]
    }
   ],
   "source": [
    "#Separating dictonary of United Kingdom from list and adding it to new list:\n",
    "country_GBR=dict_from_list['United Kingdom']\n",
    "\n",
    "#Separating the list that contains the data we need from the United Kingdom dictonary:\n",
    "country_GBR_data=country_GBR['data']\n",
    "\n",
    "#Creating an empty dictonary to get data(date, vaccination):\n",
    "dictionary_of_GBR_date_vax={}\n",
    "\n",
    "#Creating dictonary from the list:\n",
    "for item in country_GBR_data:\n",
    "\tname = item['date']\n",
    "\tdictionary_of_GBR_date_vax[name] = item\n",
    "\n",
    "#Creating an empty list:\n",
    "inter_list_GBR=[]\n",
    "\n",
    "#Adding all the keys from data dictonary to an empty list:\n",
    "for key in dictionary_of_GBR_date_vax:\n",
    "\tinter_list_GBR.append(dictionary_of_GBR_date_vax[key])\n",
    "\n",
    "\n",
    "#Converting list to dataframe:\n",
    "pd_GBR_inter=pd.DataFrame(inter_list_GBR)\n",
    "\n",
    "#Renaming the label total_vaccinations column to 'United Kingdom ratio vaccination:population' (data it holds while plotting)\n",
    "pd_GBR_inter = pd_GBR_inter.rename(columns={'total_vaccinations':'GBR_ratio_vax_pop'})\n",
    "\n",
    "#Setting the index of the dataframe to date:\n",
    "pd_GBR_inter.set_index('date')\n",
    "\n",
    "#Separating the data columns that we need for the plot (date, total_vaccinations):\n",
    "pd_GBR_fin= pd_GBR_inter.iloc[:, [0,1]]\n",
    "\n",
    "#Getting the total population of United Kingdom from the above requested json data:\n",
    "pop_GBR=json_object_cases['GBR']['population']\n",
    "\n",
    "#Dividing the vaccinated people by total population to get the ratio:\n",
    "pd_GBR_fin['GBR_ratio_vax_pop']=pd_GBR_fin['GBR_ratio_vax_pop'].div(pop_GBR)"
   ]
  },
  {
   "cell_type": "markdown",
   "metadata": {},
   "source": [
    "Following the above steps for Hong Kong:"
   ]
  },
  {
   "cell_type": "code",
   "execution_count": 71,
   "metadata": {},
   "outputs": [
    {
     "name": "stderr",
     "output_type": "stream",
     "text": [
      "/var/folders/hc/6zc630lj787bkjt8wd6q8k4w0000gn/T/ipykernel_4202/1154974127.py:42: SettingWithCopyWarning: \n",
      "A value is trying to be set on a copy of a slice from a DataFrame.\n",
      "Try using .loc[row_indexer,col_indexer] = value instead\n",
      "\n",
      "See the caveats in the documentation: https://pandas.pydata.org/pandas-docs/stable/user_guide/indexing.html#returning-a-view-versus-a-copy\n",
      "  pd_HKG_fin['HKG_ratio_vax_pop']=pd_HKG_fin['HKG_ratio_vax_pop'].div(pop_HKG)\n"
     ]
    }
   ],
   "source": [
    "#Separating dictonary of Hong Kong from list and adding it to new list:\n",
    "country_HKG=dict_from_list['Hong Kong']\n",
    "\n",
    "#Separating the list that contains the data we need from the Hong Kong dictonary:\n",
    "country_HKG_data=country_HKG['data']\n",
    "\n",
    "#Creating an empty dictonary:\n",
    "dictionary_of_HKG_date_vax={}\n",
    "\n",
    "#Creating dictonary from the list:\n",
    "for item in country_HKG_data:\n",
    "\tname = item['date']\n",
    "\tdictionary_of_HKG_date_vax[name] = item\n",
    "\n",
    "#Creating an empty list:\n",
    "inter_list_HKG=[]\n",
    "\n",
    "#Adding all the keys from data dictonary to an empty list:\n",
    "for key in dictionary_of_HKG_date_vax:\n",
    "\tinter_list_HKG.append(dictionary_of_HKG_date_vax[key])\n",
    "\n",
    "\n",
    "#Converting list to dataframe:\n",
    "pd_HKG_inter=pd.DataFrame(inter_list_HKG)\n",
    "\n",
    "#Renaming the label total_vaccinations column to 'Hong Kong ratio vaccination:population' (data it holds while plotting)\n",
    "pd_HKG_inter = pd_HKG_inter.rename(columns={'total_vaccinations':'HKG_ratio_vax_pop'})\n",
    "\n",
    "#Setting the index of the dataframe to date:\n",
    "pd_HKG_inter.set_index('date')\n",
    "\n",
    "#Converting the date in string format to datetime format:\n",
    "pd.to_datetime(pd_HKG_inter['date'],format='%Y-%m-%d')\n",
    "\n",
    "#Separating the data columns that we need for the plot (date, total_vaccinations):\n",
    "pd_HKG_fin= pd_HKG_inter.iloc[:, [0,1]]\n",
    "\n",
    "#Getting the total population of Hong Kong:\n",
    "pop_HKG=json_object_cases['HKG']['population']\n",
    "\n",
    "#Dividing the vaccinated people by total population to get the ratio:\n",
    "pd_HKG_fin['HKG_ratio_vax_pop']=pd_HKG_fin['HKG_ratio_vax_pop'].div(pop_HKG)"
   ]
  },
  {
   "cell_type": "code",
   "execution_count": 72,
   "metadata": {},
   "outputs": [],
   "source": [
    "#Creating final dataframe for plot\n",
    "final_plot = pd.concat([pd_FRA_fin, pd_GBR_fin, pd_HKG_fin],sort=False)\n",
    "\n",
    "#Converting date from string to datetime object type:\n",
    "final_plot['date']=pd.to_datetime(final_plot['date'])"
   ]
  },
  {
   "cell_type": "markdown",
   "metadata": {},
   "source": [
    "Plotting the graph:\n",
    "\n",
    "x axis is date\n",
    "\n",
    "y axis is ratio of vaccination/total population"
   ]
  },
  {
   "cell_type": "code",
   "execution_count": 76,
   "metadata": {},
   "outputs": [
    {
     "data": {
      "text/plain": [
       "<matplotlib.legend.Legend at 0x7fe0aba34a60>"
      ]
     },
     "execution_count": 76,
     "metadata": {},
     "output_type": "execute_result"
    },
    {
     "data": {
      "image/png": "[encoded data removed]",
      "text/plain": [
       "<Figure size 1080x360 with 1 Axes>"
      ]
     },
     "metadata": {},
     "output_type": "display_data"
    }
   ],
   "source": [
    "#Defining size of the graph:\n",
    "plt.figure(figsize=(15,5))\n",
    "\n",
    "# Plot for France:\n",
    "plt.plot(final_plot[\"date\"],final_plot[\"FRA_ratio_vax_pop\"],label=\"FRA_Vax_Ratio\")\n",
    "\n",
    "#Plot for Great Britain:\n",
    "plt.plot(final_plot[\"date\"],final_plot[\"GBR_ratio_vax_pop\"],label=\"GBR_Vax_Ratio\")\n",
    "\n",
    "#Plot for Hong Kong:\n",
    "plt.plot(final_plot[\"date\"],final_plot[\"HKG_ratio_vax_pop\"],label=\"HKG_Vax_Ratio\")\n",
    "\n",
    "#Creating label for x-axis:\n",
    "plt.xlabel('Date')\n",
    "\n",
    "#Creating label for y-axis:\n",
    "plt.ylabel('Relative Vaccination(Total Vaccination/Total Population)')\n",
    "\n",
    "#Print the legend:\n",
    "plt.legend()"
   ]
  },
  {
   "cell_type": "markdown",
   "metadata": {},
   "source": [
    "# Fin"
   ]
  }
 ],
 "metadata": {
  "kernelspec": {
   "display_name": "Python 3.9.12 ('base')",
   "language": "python",
   "name": "python3"
  },
  "language_info": {
   "codemirror_mode": {
    "name": "ipython",
    "version": 3
   },
   "file_extension": ".py",
   "mimetype": "text/x-python",
   "name": "python",
   "nbconvert_exporter": "python",
   "pygments_lexer": "ipython3",
   "version": "3.9.12"
  },
  "orig_nbformat": 4,
  "vscode": {
   "interpreter": {
    "hash": "dbcabc1e1cc81fbd928da8134036154956e0c2d5b3bd6f0cb592e32cc71ac8ad"
   }
  }
 },
 "nbformat": 4,
 "nbformat_minor": 2
}
