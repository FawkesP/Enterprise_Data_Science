{
 "cells": [
  {
   "cell_type": "markdown",
   "id": "cc68f9cc",
   "metadata": {},
   "source": [
    "# Relative Cases (Absolute Covid Cases/Population Size)\n",
    "\n",
    "Countries: France, United Kingdom, Hong Kong\n",
    "\n",
    "Pranav Atul Patwardhan (419148)"
   ]
  },
  {
   "cell_type": "code",
   "execution_count": 36,
   "id": "55ad6b35",
   "metadata": {},
   "outputs": [],
   "source": [
    "#Importing required libraries:\n",
    "import pandas as pd\n",
    "import requests\n",
    "import json\n",
    "import datetime as datetime\n",
    "import matplotlib.pyplot as plt"
   ]
  },
  {
   "cell_type": "code",
   "execution_count": 37,
   "id": "ccc77f30",
   "metadata": {},
   "outputs": [],
   "source": [
    "#Setting maximum displayed rows:\n",
    "pd.set_option('display.max_rows', 500)"
   ]
  },
  {
   "cell_type": "code",
   "execution_count": 38,
   "id": "6ea97443",
   "metadata": {},
   "outputs": [],
   "source": [
    "# Requesting the Covid Cases data from our world in data webiste as a json object:\n",
    "data_cases=requests.get('https://covid.ourworldindata.org/data/owid-covid-data.json')"
   ]
  },
  {
   "cell_type": "code",
   "execution_count": 39,
   "id": "ddafb1c9",
   "metadata": {},
   "outputs": [],
   "source": [
    "# load json object for the total number of COVID cases \n",
    "json_object_cases=json.loads(data_cases.content)"
   ]
  },
  {
   "cell_type": "code",
   "execution_count": 40,
   "id": "adcb210f",
   "metadata": {},
   "outputs": [],
   "source": [
    "#Obtain the country data for France from the json dictionary:\n",
    "cases_FRA_data = json_object_cases['FRA']['data'][:]"
   ]
  },
  {
   "cell_type": "code",
   "execution_count": 41,
   "id": "50bf8223",
   "metadata": {},
   "outputs": [],
   "source": [
    "#Create the list for storing the dates:\n",
    "list_date_FRA=[]\n",
    "\n",
    "#Extrating dates from the entire country data:\n",
    "for index in range(len(cases_FRA_data)):\n",
    "\n",
    "    #Obtaining the dates from the json dictionary:\n",
    "    date_list = json_object_cases['FRA']['data'][index]\n",
    "\n",
    "    #Append the dates to the date list:\n",
    "    list_date_FRA.append(date_list['date'])\n",
    "   \n",
    "\n",
    "#Convert date object from string to datetime:\n",
    "list_date_FRA=pd.to_datetime(pd.Series(list_date_FRA))\n",
    "\n",
    "#Create a dataframe for dates in France:\n",
    "pd_dates_FRA = pd.DataFrame(list_date_FRA)\n",
    "\n",
    "#Rename the column indices to date:\n",
    "pd_dates_FRA = pd_dates_FRA.rename(columns={0:'date'})\n",
    "\n",
    "#Get the date time format in %Y-%m-%d:\n",
    "pd_dates_FRA['date'] = pd.to_datetime(pd_dates_FRA['date'],format='%Y-%m-%d')  "
   ]
  },
  {
   "cell_type": "code",
   "execution_count": 42,
   "id": "3667678e",
   "metadata": {},
   "outputs": [],
   "source": [
    "#Get the total population for France:\n",
    "pop_FRA=json_object_cases['FRA']['population']"
   ]
  },
  {
   "cell_type": "code",
   "execution_count": 43,
   "id": "986f1d89",
   "metadata": {},
   "outputs": [],
   "source": [
    "#Create an empty to store the cases:\n",
    "list_cases_FRA=[]\n",
    "\n",
    "#Using loop to get all the cases for respective cases:\n",
    "for index in range(len(cases_FRA_data)):\n",
    "\n",
    "    #Entire the entire cases list for France:\n",
    "    cases_list = json_object_cases['FRA']['data'][index]\n",
    "    \n",
    "    #append the cases and divide by the total population:\n",
    "    list_cases_FRA.append((cases_list['total_cases']/pop_FRA))\n",
    "\n",
    "#Convert the cases into the a dataframe:\n",
    "pd_cases_FRA = pd.DataFrame(list_cases_FRA)\n",
    "\n",
    "#Rename the column index to France cases:  \n",
    "pd_cases_FRA = pd_cases_FRA.rename(columns={0:'FRA_cases'})\n",
    "\n",
    "#Concatenate the dates and cases for France:\n",
    "date_cases_FRA = pd.concat([pd_dates_FRA, pd_cases_FRA],axis=1)"
   ]
  },
  {
   "cell_type": "markdown",
   "id": "ac9c48da",
   "metadata": {},
   "source": [
    "Checking whether the extracted data is correct for a plot or not:"
   ]
  },
  {
   "cell_type": "code",
   "execution_count": 44,
   "id": "f00d28c1",
   "metadata": {},
   "outputs": [
    {
     "data": {
      "text/plain": [
       "<AxesSubplot:xlabel='date'>"
      ]
     },
     "execution_count": 44,
     "metadata": {},
     "output_type": "execute_result"
    },
    {
     "data": {
      "image/png": "[encoded data removed]",
      "text/plain": [
       "<Figure size 432x288 with 1 Axes>"
      ]
     },
     "metadata": {
      "needs_background": "light"
     },
     "output_type": "display_data"
    }
   ],
   "source": [
    "#Plotting the date vs cases for France:\n",
    "date_cases_FRA.plot(x='date')"
   ]
  },
  {
   "cell_type": "markdown",
   "id": "3a5a3333",
   "metadata": {},
   "source": [
    "Following above steps for United Kingdowm/Great Britain:"
   ]
  },
  {
   "cell_type": "code",
   "execution_count": 45,
   "id": "b7978936",
   "metadata": {},
   "outputs": [],
   "source": [
    "#Obtain the country data for United Kingdom from the json dictionary:\n",
    "cases_GBR_data = json_object_cases['GBR']['data'][:]\n",
    "\n",
    "#Create the list for storing the dates:\n",
    "list_date_GBR=[]\n",
    "\n",
    "#Extrating dates from the entire country data:\n",
    "for index in range(len(cases_GBR_data)):\n",
    "\n",
    "    #Obtaining the dates from the json dictionary:\n",
    "    date_list = json_object_cases['GBR']['data'][index]\n",
    "\n",
    "    #Append the dates to the date list:\n",
    "    list_date_GBR.append(date_list['date'])\n",
    "\n",
    "#Convert date object from string to datetime:\n",
    "list_date_GBR=pd.to_datetime(pd.Series(list_date_GBR))\n",
    "\n",
    "#Create a dataframe for dates in United Kingdom:\n",
    "pd_dates_GBR = pd.DataFrame(list_date_GBR)\n",
    "\n",
    "#Rename the column indices to date:\n",
    "pd_dates_GBR = pd_dates_GBR.rename(columns={0:'date'})\n",
    "\n",
    "#Get the date time format in %Y-%m-%d:\n",
    "pd_dates_GBR['date'] = pd.to_datetime(pd_dates_GBR['date'],format='%Y-%m-%d')   \n",
    "\n",
    "#Get the total population for United Kingdom:\n",
    "pop_GBR=json_object_cases['GBR']['population']\n",
    "\n",
    "#Create an empty to store the cases:\n",
    "list_cases_GBR=[]\n",
    "\n",
    "#Using loop to get all the cases for respective cases:\n",
    "for index in range(len(cases_GBR_data)):\n",
    "\n",
    "    #Entire the entire cases list for United Kingdom:\n",
    "    cases_list = json_object_cases['GBR']['data'][index]\n",
    "\n",
    "    #Append the cases and divide by the total population:\n",
    "    list_cases_GBR.append((cases_list['total_cases']/pop_GBR))\n",
    "\n",
    "#Convert the cases into the a dataframe:\n",
    "pd_cases_GBR = pd.DataFrame(list_cases_GBR)\n",
    "\n",
    "#Rename the column index to United Kingdom cases:  \n",
    "pd_cases_GBR = pd_cases_GBR.rename(columns={0:'GBR_cases'})\n",
    "\n",
    "#Concatenate the dates and cases for United Kingdom:\n",
    "date_cases_GBR = pd.concat([pd_dates_GBR, pd_cases_GBR],axis=1)"
   ]
  },
  {
   "cell_type": "markdown",
   "id": "8b1ef629",
   "metadata": {},
   "source": [
    "Following above steps for Hong Kong:"
   ]
  },
  {
   "cell_type": "code",
   "execution_count": 46,
   "id": "8b07bb6b",
   "metadata": {},
   "outputs": [],
   "source": [
    "#Obtain the country data for Hong Kong from the json dictionary:\n",
    "cases_HKG_data = json_object_cases['HKG']['data'][:]\n",
    "\n",
    "#Create the list for storing the dates:\n",
    "list_date_HKG=[]\n",
    "\n",
    "#Extrating dates from the entire country data:\n",
    "for index in range(len(cases_HKG_data)):\n",
    "\n",
    "    #Obtaining the dates from the json dictionary:\n",
    "    date_list = json_object_cases['HKG']['data'][index]\n",
    "\n",
    "    #Append the dates to the date list:\n",
    "    list_date_HKG.append(date_list['date'])\n",
    "\n",
    "#Convert date object from string to datetime:\n",
    "list_date_HKG=pd.to_datetime(pd.Series(list_date_HKG))\n",
    "\n",
    "#Create a dataframe for dates in France:\n",
    "pd_dates_HKG = pd.DataFrame(list_date_HKG)\n",
    "\n",
    "#Rename the column indices to date:\n",
    "pd_dates_HKG = pd_dates_HKG.rename(columns={0:'date'})\n",
    "\n",
    "#Get the date time format in %Y-%m-%d:\n",
    "pd_dates_HKG['date'] = pd.to_datetime(pd_dates_HKG['date'],format='%Y-%m-%d')   \n",
    "\n",
    "#Get the total population for Hong Kong:\n",
    "pop_HKG=json_object_cases['HKG']['population']\n",
    "\n",
    "#Create an empty to store the cases:\n",
    "list_cases_HKG=[]\n",
    "\n",
    "#Using loop to get all the cases for respective cases:\n",
    "for index in range(len(cases_HKG_data)):\n",
    "\n",
    "    #Entire the entire cases list for Hong Kong:\n",
    "    cases_list = json_object_cases['HKG']['data'][index]\n",
    "\n",
    "    #Append the cases and divide by the total population:\n",
    "    list_cases_HKG.append((cases_list['total_cases']/pop_HKG))\n",
    "\n",
    "#Convert the cases into the a dataframe:\n",
    "pd_cases_HKG = pd.DataFrame(list_cases_HKG)\n",
    "\n",
    "#Rename the column index to Hong Kong cases:\n",
    "pd_cases_HKG = pd_cases_HKG.rename(columns={0:'HKG_cases'})\n",
    "\n",
    "#Concatenate the dates and cases for Hong Kong:\n",
    "date_cases_HKG = pd.concat([pd_dates_HKG, pd_cases_HKG],axis=1)"
   ]
  },
  {
   "cell_type": "markdown",
   "id": "33d766c5",
   "metadata": {},
   "source": [
    "Getting data ready for final plot:"
   ]
  },
  {
   "cell_type": "code",
   "execution_count": 47,
   "id": "9224e3df",
   "metadata": {},
   "outputs": [],
   "source": [
    "#Obtaining the final dataframe by concatenating all the cases and dates for chosen countries: \n",
    "Dataframe_final =pd.concat([date_cases_FRA, date_cases_GBR, date_cases_HKG], sort=False)"
   ]
  },
  {
   "cell_type": "markdown",
   "id": "a08b8819",
   "metadata": {},
   "source": [
    "Plotting the Data:\n",
    "\n",
    "x-axis has dates\n",
    "\n",
    "y-axis has the ratio of absolute cases in the country to total population of the country"
   ]
  },
  {
   "cell_type": "code",
   "execution_count": 48,
   "id": "e6d7a7cd",
   "metadata": {},
   "outputs": [
    {
     "data": {
      "image/png": "[encoded data removed]",
      "text/plain": [
       "<Figure size 1080x360 with 1 Axes>"
      ]
     },
     "metadata": {
      "needs_background": "light"
     },
     "output_type": "display_data"
    }
   ],
   "source": [
    "# Defining the size for plotting\n",
    "plt.figure(figsize=(15,5))\n",
    "\n",
    "# plot for relative covid cases for Australia\n",
    "plt.plot(Dataframe_final[\"date\"], Dataframe_final[\"FRA_cases\"], label = \"AUS_cases\")\n",
    "\n",
    "# plot for relative covid cases for Great Britain\n",
    "plt.plot(Dataframe_final[\"date\"], Dataframe_final[\"GBR_cases\"], label = \"GBR_cases\")\n",
    "\n",
    "# plot for relative covid cases for Hongkong\n",
    "plt.plot(Dataframe_final[\"date\"], Dataframe_final[\"HKG_cases\"], label = \"HKG_cases\")\n",
    "\n",
    "# Add X-label for date\n",
    "plt.xlabel('Date')\n",
    "\n",
    "# Add Y-label for relative covid cases \n",
    "plt.ylabel('Relative COVID Cases (Absolute Cases/Total Population)')\n",
    "\n",
    "# Add legend\n",
    "plt.legend()\n",
    "\n",
    "# Display Plot\n",
    "plt.show()"
   ]
  },
  {
   "cell_type": "markdown",
   "id": "cf80930f",
   "metadata": {},
   "source": [
    "# FIN"
   ]
  }
 ],
 "metadata": {
  "kernelspec": {
   "display_name": "Python 3.9.12 ('base')",
   "language": "python",
   "name": "python3"
  },
  "language_info": {
   "codemirror_mode": {
    "name": "ipython",
    "version": 3
   },
   "file_extension": ".py",
   "mimetype": "text/x-python",
   "name": "python",
   "nbconvert_exporter": "python",
   "pygments_lexer": "ipython3",
   "version": "3.9.12"
  },
  "vscode": {
   "interpreter": {
    "hash": "dbcabc1e1cc81fbd928da8134036154956e0c2d5b3bd6f0cb592e32cc71ac8ad"
   }
  }
 },
 "nbformat": 4,
 "nbformat_minor": 5
}
