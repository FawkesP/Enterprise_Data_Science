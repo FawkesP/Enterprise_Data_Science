{
 "cells": [
  {
   "cell_type": "markdown",
   "id": "4de49214",
   "metadata": {},
   "source": [
    "# Business Understanding\n",
    "We would like to track Corona VIRUS spread across countries and with personal local information\n",
    "\n",
    "The general information is not so relevant for me I would like to have a deep dive local development of the spread\n",
    "\n"
   ]
  },
  {
   "cell_type": "markdown",
   "id": "ae94d60b",
   "metadata": {},
   "source": [
    "# Goals\n",
    "* We would like to understand the data quality\n",
    "* Everything should be automated as much as possible: how many clicks do we need to execute the full pipeline"
   ]
  },
  {
   "cell_type": "markdown",
   "id": "cd0e3421",
   "metadata": {},
   "source": [
    "# Constraints:\n",
    "Each notebook should be left clean and ready for full execution."
   ]
  },
  {
   "cell_type": "code",
   "execution_count": 1,
   "id": "8cd0b56a",
   "metadata": {},
   "outputs": [],
   "source": [
    "import pandas as pd\n",
    "import numpy as np\n",
    "\n",
    "from datetime import datetime\n",
    "\n",
    "%matplotlib inline\n",
    "pd.set_option('display.max_rows', 500)"
   ]
  },
  {
   "cell_type": "code",
   "execution_count": null,
   "id": "5c7de450",
   "metadata": {},
   "outputs": [],
   "source": []
  },
  {
   "cell_type": "code",
   "execution_count": null,
   "id": "3739506f",
   "metadata": {},
   "outputs": [],
   "source": []
  }
 ],
 "metadata": {
  "kernelspec": {
   "display_name": "Python 3 (ipykernel)",
   "language": "python",
   "name": "python3"
  },
  "language_info": {
   "codemirror_mode": {
    "name": "ipython",
    "version": 3
   },
   "file_extension": ".py",
   "mimetype": "text/x-python",
   "name": "python",
   "nbconvert_exporter": "python",
   "pygments_lexer": "ipython3",
   "version": "3.9.12"
  }
 },
 "nbformat": 4,
 "nbformat_minor": 5
}
